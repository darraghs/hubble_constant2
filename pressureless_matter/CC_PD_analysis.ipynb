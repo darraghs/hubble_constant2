{
 "cells": [
  {
   "cell_type": "code",
   "execution_count": 1,
   "metadata": {},
   "outputs": [],
   "source": [
    "import numpy as np\n",
    "import pandas as pd\n",
    "import scipy.integrate as int\n",
    "import scipy.optimize as op\n",
    "import emcee\n",
    "import matplotlib.pyplot as plt\n",
    "from scipy import interpolate\n",
    "import scipy.constants as const\n",
    "import sys\n",
    "from astropy.cosmology import wCDM\n",
    "#from scipy.interpolate import griddata\n",
    "from astropy.cosmology import FlatLambdaCDM"
   ]
  },
  {
   "cell_type": "code",
   "execution_count": 2,
   "metadata": {},
   "outputs": [],
   "source": [
    "#inputting data (34 data points)\n",
    "cc_xdata, cc_ydata, cc_yerr = np.loadtxt('/Users/eoin/Documents/Python/Data/cc.txt',usecols=(0,1,2), unpack=True)\n",
    "#bao_xdata, bao_ydata, bao_yerr = np.loadtxt('/Users/eoin/Documents/Projects/Cosmology/HighZ/bao.dat',usecols=(0,1,2), unpack=True)"
   ]
  },
  {
   "cell_type": "code",
   "execution_count": 3,
   "metadata": {},
   "outputs": [],
   "source": [
    "def H(z, h0, om):\n",
    "    return h0*np.sqrt(1-om + om*(1+z)**3)"
   ]
  },
  {
   "cell_type": "code",
   "execution_count": 4,
   "metadata": {},
   "outputs": [],
   "source": [
    "input_xdata = cc_xdata\n",
    "input_ydata = cc_ydata\n",
    "input_yerr = cc_yerr"
   ]
  },
  {
   "cell_type": "code",
   "execution_count": 6,
   "metadata": {},
   "outputs": [],
   "source": [
    "zmin  = 0; zmax = 2.5;"
   ]
  },
  {
   "cell_type": "code",
   "execution_count": 7,
   "metadata": {},
   "outputs": [
    {
     "data": {
      "text/plain": [
       "34"
      ]
     },
     "execution_count": 7,
     "metadata": {},
     "output_type": "execute_result"
    }
   ],
   "source": [
    "x = np.logical_and(zmin < input_xdata, input_xdata <= zmax)\n",
    "y = np.logical_not(x)\n",
    "xdata = input_xdata[x]\n",
    "ydata = input_ydata[x]\n",
    "yerr = input_yerr[x]\n",
    "cov = np.diag(yerr**2)\n",
    "len(yerr)"
   ]
  },
  {
   "cell_type": "code",
   "execution_count": 8,
   "metadata": {},
   "outputs": [],
   "source": [
    "def lnlike(u):\n",
    "    h0 = u[0]\n",
    "    om = u[1]\n",
    "    \n",
    "    cc = -0.5*((ydata-H(xdata, h0, om))**2/yerr**2).sum()\n",
    "    \n",
    "#    wm = om*(h0/100)**2\n",
    "#    cmb = -1/2*(wm - 0.1430)**2/0.00000121\n",
    "    \n",
    "    return cc"
   ]
  },
  {
   "cell_type": "code",
   "execution_count": 9,
   "metadata": {},
   "outputs": [
    {
     "name": "stdout",
     "output_type": "stream",
     "text": [
      "68.14402786803511 0.320211652490243 0.14869375622154063\n"
     ]
    }
   ],
   "source": [
    "nll = lambda *args: -lnlike(*args)\n",
    "result = op.minimize(nll, [70, 0.3], bounds = ((0, 200), (0, 1)), options={'disp': None, 'maxcor': 10, 'ftol': 2.220446049250313e-15, 'gtol': 1e-05, 'eps': 1e-08, 'maxfun': 15000, 'maxiter': 15000, 'iprint': - 1, 'maxls': 20})\n",
    "h0, om = result[\"x\"]\n",
    "print(h0, om, (h0/100)**2*om)"
   ]
  },
  {
   "cell_type": "code",
   "execution_count": 10,
   "metadata": {},
   "outputs": [
    {
     "name": "stdout",
     "output_type": "stream",
     "text": [
      "68.14402786803511 0.320211652490243\n",
      "3.0700857965490025 0.05868029068529319\n"
     ]
    }
   ],
   "source": [
    "# Fisher matrix\n",
    "print(h0, om)\n",
    "Q = ydata -H(xdata, h0, om)\n",
    "DH0Q = -np.sqrt(1-om+om*(1+xdata)**3)\n",
    "DOMQ = -h0/2*(xdata**3+3*xdata**2+3*xdata)/np.sqrt(1-om+om*(1+xdata)**3)\n",
    "DH0OMQ = -1/2*(xdata**3+3*xdata**2+3*xdata)/np.sqrt(1-om+om*(1+xdata)**3)\n",
    "DOM2Q = 1/4*h0*(xdata**3+3*xdata**2+3*xdata)**2/(1-om+om*(1+xdata)**3)**(3/2)\n",
    "cinv = np.linalg.inv(cov)\n",
    "F11 = DH0Q.dot(cinv).dot(DH0Q); F12 = 1/2*(DH0OMQ.dot(cinv).dot(Q)+DOMQ.dot(cinv).dot(DH0Q)+DH0Q.dot(cinv).dot(DOMQ)+Q.dot(cinv).dot(DH0OMQ));\n",
    "F22 = DOMQ.dot(cinv).dot(DOMQ)+1/2*(Q.dot(cinv).dot(DOM2Q)+DOM2Q.dot(cinv).dot(Q))\n",
    "F = [[F11,F12],[F12,F22]]\n",
    "h0err, omerr = np.sqrt(np.diag(np.linalg.inv(F))).T\n",
    "print(h0err, omerr)"
   ]
  },
  {
   "cell_type": "code",
   "execution_count": 11,
   "metadata": {},
   "outputs": [],
   "source": [
    "def lnprior(u):\n",
    "    h0 = u[0]\n",
    "    om = u[1]\n",
    "\n",
    "    if 0 <= h0 < 200 and 0 <= om <= 1:\n",
    "        return 0.0\n",
    "    return -np.inf"
   ]
  },
  {
   "cell_type": "code",
   "execution_count": 12,
   "metadata": {},
   "outputs": [],
   "source": [
    "def lnprob(u):\n",
    "    lp = lnprior(u)\n",
    "    if not np.isfinite(lp):\n",
    "        return -np.inf\n",
    "    return lp + lnlike(u)"
   ]
  },
  {
   "cell_type": "code",
   "execution_count": 13,
   "metadata": {},
   "outputs": [],
   "source": [
    "ndim, nwalkers = 2, 30\n",
    "pos = [[h0, om] + 1e-4*np.random.randn(ndim) for i in range(nwalkers)]"
   ]
  },
  {
   "cell_type": "code",
   "execution_count": 14,
   "metadata": {},
   "outputs": [],
   "source": [
    "sampler = emcee.EnsembleSampler(nwalkers, ndim, lnprob)    "
   ]
  },
  {
   "cell_type": "code",
   "execution_count": null,
   "metadata": {},
   "outputs": [
    {
     "name": "stderr",
     "output_type": "stream",
     "text": [
      "/opt/anaconda3/lib/python3.7/site-packages/emcee/ensemble.py:258: RuntimeWarning: Initial state is not linearly independent and it will not allow a full exploration of parameter space\n",
      "  category=RuntimeWarning,\n",
      "  7%|▋         | 7221/100000 [00:09<02:03, 753.24it/s]"
     ]
    }
   ],
   "source": [
    "sampler.run_mcmc(pos, 100000, progress=True);"
   ]
  },
  {
   "cell_type": "code",
   "execution_count": 15,
   "metadata": {},
   "outputs": [
    {
     "name": "stdout",
     "output_type": "stream",
     "text": [
      "[314.43845727 402.75295306]\n"
     ]
    }
   ],
   "source": [
    "tau = sampler.get_autocorr_time()\n",
    "print(tau)"
   ]
  },
  {
   "cell_type": "code",
   "execution_count": 16,
   "metadata": {},
   "outputs": [
    {
     "data": {
      "image/png": "[encoded data removed]",
      "text/plain": [
       "<Figure size 720x504 with 2 Axes>"
      ]
     },
     "metadata": {
      "needs_background": "light"
     },
     "output_type": "display_data"
    }
   ],
   "source": [
    "fig, axes = plt.subplots(2, figsize=(10, 7), sharex=True)\n",
    "samples = sampler.get_chain()\n",
    "labels = [\"h0\", \"om\"]\n",
    "for i in range(ndim):\n",
    "    ax = axes[i]\n",
    "    ax.plot(samples[:, :, i], \"k\", alpha=0.3)\n",
    "    ax.set_xlim(0, len(samples))\n",
    "    ax.set_ylabel(labels[i])\n",
    "    ax.yaxis.set_label_coords(-0.1, 0.5)\n",
    "\n",
    "axes[-1].set_xlabel(\"step number\");"
   ]
  },
  {
   "cell_type": "code",
   "execution_count": 17,
   "metadata": {},
   "outputs": [],
   "source": [
    "samples = sampler.chain[:, 5000:, :].reshape((-1, ndim))"
   ]
  },
  {
   "cell_type": "code",
   "execution_count": 18,
   "metadata": {},
   "outputs": [
    {
     "data": {
      "image/png": "[encoded data removed]",
      "text/plain": [
       "<Figure size 396x396 with 4 Axes>"
      ]
     },
     "metadata": {
      "needs_background": "light"
     },
     "output_type": "display_data"
    }
   ],
   "source": [
    "import corner\n",
    "fig = corner.corner(samples, labels=[\"h0\", \"om\"], truths=[h0, om])\n",
    "#fig.savefig(\"QSO_OHD_CMBprior_zmin07.png\")"
   ]
  },
  {
   "cell_type": "code",
   "execution_count": 19,
   "metadata": {},
   "outputs": [
    {
     "name": "stdout",
     "output_type": "stream",
     "text": [
      "(189990, 2)\n"
     ]
    }
   ],
   "source": [
    "flat_samples = sampler.get_chain(discard=5000, thin=15, flat=True)\n",
    "print(flat_samples.shape)"
   ]
  },
  {
   "cell_type": "code",
   "execution_count": 20,
   "metadata": {},
   "outputs": [
    {
     "data": {
      "text/latex": [
       "$\\displaystyle \\mathrm{h0} = 107.826_{-44.642}^{+34.457}$"
      ],
      "text/plain": [
       "<IPython.core.display.Math object>"
      ]
     },
     "metadata": {},
     "output_type": "display_data"
    },
    {
     "data": {
      "text/latex": [
       "$\\displaystyle \\mathrm{om} = 0.090_{-0.071}^{+0.318}$"
      ],
      "text/plain": [
       "<IPython.core.display.Math object>"
      ]
     },
     "metadata": {},
     "output_type": "display_data"
    }
   ],
   "source": [
    "from IPython.display import display, Math\n",
    "\n",
    "for i in range(ndim):\n",
    "    mcmc = np.percentile(flat_samples[:, i], [16, 50, 84])\n",
    "    q = np.diff(mcmc)\n",
    "    #err = 1/2*(q[0]+q[1])\n",
    "    txt = \"\\mathrm{{{3}}} = {0:.3f}_{{-{1:.3f}}}^{{+{2:.3f}}}\"\n",
    "    txt = txt.format(mcmc[1], q[0], q[1], labels[i])\n",
    "    #txt = \"\\mathrm{{{2}}} = {0:.2f}\\pm{{{1:.2f}}}\"\n",
    "    #txt = txt.format(mcmc[1], err, labels[i])\n",
    "    display(Math(txt))"
   ]
  },
  {
   "cell_type": "code",
   "execution_count": 21,
   "metadata": {},
   "outputs": [
    {
     "data": {
      "text/plain": [
       "array([[7.44525992e+01, 2.53649819e-01],\n",
       "       [1.32781293e+02, 3.02430155e-02],\n",
       "       [6.29553735e+01, 4.12542469e-01],\n",
       "       ...,\n",
       "       [1.47359212e+02, 1.33554159e-02],\n",
       "       [7.39426478e+01, 2.93181563e-01],\n",
       "       [6.10665529e+01, 4.54661349e-01]])"
      ]
     },
     "execution_count": 21,
     "metadata": {},
     "output_type": "execute_result"
    }
   ],
   "source": [
    "#np.savetxt(\"CC_zmin1_MCMCchain.txt\", flat_samples)\n",
    "# the output of the MCMC chain\n",
    "flat_samples"
   ]
  },
  {
   "cell_type": "code",
   "execution_count": 26,
   "metadata": {},
   "outputs": [
    {
     "data": {
      "text/plain": [
       "array([[7.44525992e+01, 2.53649819e-01, 8.32934355e+00],\n",
       "       [1.32781293e+02, 3.02430155e-02, 5.02664983e+00],\n",
       "       [6.29553735e+01, 4.12542469e-01, 8.78113988e+00],\n",
       "       ...,\n",
       "       [1.47359212e+02, 1.33554159e-02, 4.67790661e+00],\n",
       "       [7.39426478e+01, 2.93181563e-01, 8.38543727e+00],\n",
       "       [6.10665529e+01, 4.54661349e-01, 8.96813174e+00]])"
      ]
     },
     "execution_count": 26,
     "metadata": {},
     "output_type": "execute_result"
    }
   ],
   "source": [
    "# evaluating the chi^2 for each entry in the MCMC chain, note factor of 2\n",
    "output = []\n",
    "for x in flat_samples: \n",
    "    output.append([x[0], x[1], 2*nll([x[0], x[1]])])\n",
    "\n",
    "output = np.array(output)\n",
    "output"
   ]
  },
  {
   "cell_type": "code",
   "execution_count": 27,
   "metadata": {},
   "outputs": [
    {
     "name": "stdout",
     "output_type": "stream",
     "text": [
      "150.35008358448061 0.009847519551170724 4.6684024484931665\n"
     ]
    }
   ],
   "source": [
    "h0_min, om_min, chi_sq_min = output[output[:,2]==np.min(output[:,2])][0]\n",
    "print(h0_min, om_min, chi_sq_min)"
   ]
  },
  {
   "cell_type": "code",
   "execution_count": 28,
   "metadata": {},
   "outputs": [],
   "source": [
    "#np.savetxt(\"MCMCchain_DP.txt\", output)"
   ]
  },
  {
   "cell_type": "code",
   "execution_count": 29,
   "metadata": {},
   "outputs": [
    {
     "data": {
      "text/plain": [
       "189990"
      ]
     },
     "execution_count": 29,
     "metadata": {},
     "output_type": "execute_result"
    }
   ],
   "source": [
    "#temp = np.loadtxt(\"MCMCchain_DP.txt\")\n",
    "H0, OM, CHI = output.T\n",
    "len(H0)"
   ]
  },
  {
   "cell_type": "code",
   "execution_count": 30,
   "metadata": {},
   "outputs": [
    {
     "name": "stdout",
     "output_type": "stream",
     "text": [
      "36.32824918358381 189.39196083148553 0.7691643801402108\n"
     ]
    },
    {
     "data": {
      "text/plain": [
       "array([ 36.32824918,  37.09741356,  37.86657794,  38.63574232,\n",
       "        39.4049067 ,  40.17407108,  40.94323546,  41.71239984,\n",
       "        42.48156422,  43.2507286 ,  44.01989298,  44.78905737,\n",
       "        45.55822175,  46.32738613,  47.09655051,  47.86571489,\n",
       "        48.63487927,  49.40404365,  50.17320803,  50.94237241,\n",
       "        51.71153679,  52.48070117,  53.24986555,  54.01902993,\n",
       "        54.78819431,  55.55735869,  56.32652307,  57.09568745,\n",
       "        57.86485183,  58.63401621,  59.40318059,  60.17234497,\n",
       "        60.94150935,  61.71067373,  62.47983811,  63.24900249,\n",
       "        64.01816687,  64.78733125,  65.55649563,  66.32566001,\n",
       "        67.09482439,  67.86398877,  68.63315315,  69.40231753,\n",
       "        70.17148191,  70.94064629,  71.70981067,  72.47897505,\n",
       "        73.24813943,  74.01730381,  74.78646819,  75.55563257,\n",
       "        76.32479695,  77.09396133,  77.86312571,  78.63229009,\n",
       "        79.40145447,  80.17061885,  80.93978323,  81.70894761,\n",
       "        82.47811199,  83.24727637,  84.01644075,  84.78560513,\n",
       "        85.55476951,  86.32393389,  87.09309827,  87.86226265,\n",
       "        88.63142703,  89.40059141,  90.16975579,  90.93892017,\n",
       "        91.70808455,  92.47724893,  93.24641331,  94.01557769,\n",
       "        94.78474207,  95.55390645,  96.32307083,  97.09223521,\n",
       "        97.86139959,  98.63056397,  99.39972836, 100.16889274,\n",
       "       100.93805712, 101.7072215 , 102.47638588, 103.24555026,\n",
       "       104.01471464, 104.78387902, 105.5530434 , 106.32220778,\n",
       "       107.09137216, 107.86053654, 108.62970092, 109.3988653 ,\n",
       "       110.16802968, 110.93719406, 111.70635844, 112.47552282,\n",
       "       113.2446872 , 114.01385158, 114.78301596, 115.55218034,\n",
       "       116.32134472, 117.0905091 , 117.85967348, 118.62883786,\n",
       "       119.39800224, 120.16716662, 120.936331  , 121.70549538,\n",
       "       122.47465976, 123.24382414, 124.01298852, 124.7821529 ,\n",
       "       125.55131728, 126.32048166, 127.08964604, 127.85881042,\n",
       "       128.6279748 , 129.39713918, 130.16630356, 130.93546794,\n",
       "       131.70463232, 132.4737967 , 133.24296108, 134.01212546,\n",
       "       134.78128984, 135.55045422, 136.3196186 , 137.08878298,\n",
       "       137.85794736, 138.62711174, 139.39627612, 140.1654405 ,\n",
       "       140.93460488, 141.70376926, 142.47293364, 143.24209802,\n",
       "       144.0112624 , 144.78042678, 145.54959116, 146.31875554,\n",
       "       147.08791992, 147.8570843 , 148.62624868, 149.39541306,\n",
       "       150.16457744, 150.93374182, 151.7029062 , 152.47207058,\n",
       "       153.24123496, 154.01039935, 154.77956373, 155.54872811,\n",
       "       156.31789249, 157.08705687, 157.85622125, 158.62538563,\n",
       "       159.39455001, 160.16371439, 160.93287877, 161.70204315,\n",
       "       162.47120753, 163.24037191, 164.00953629, 164.77870067,\n",
       "       165.54786505, 166.31702943, 167.08619381, 167.85535819,\n",
       "       168.62452257, 169.39368695, 170.16285133, 170.93201571,\n",
       "       171.70118009, 172.47034447, 173.23950885, 174.00867323,\n",
       "       174.77783761, 175.54700199, 176.31616637, 177.08533075,\n",
       "       177.85449513, 178.62365951, 179.39282389, 180.16198827,\n",
       "       180.93115265, 181.70031703, 182.46948141, 183.23864579,\n",
       "       184.00781017, 184.77697455, 185.54613893, 186.31530331,\n",
       "       187.08446769, 187.85363207, 188.62279645, 189.39196083])"
      ]
     },
     "execution_count": 30,
     "metadata": {},
     "output_type": "execute_result"
    }
   ],
   "source": [
    "# first we analyse H0, I restrict attention to H0 values in our chain\n",
    "h0bins = np.linspace(H0.min(), H0.max(), 200)\n",
    "bin_size = np.diff(h0bins)[0]\n",
    "print(H0.min(), H0.max(), bin_size)\n",
    "h0bins"
   ]
  },
  {
   "cell_type": "code",
   "execution_count": 31,
   "metadata": {},
   "outputs": [
    {
     "data": {
      "text/plain": [
       "189990"
      ]
     },
     "execution_count": 31,
     "metadata": {},
     "output_type": "execute_result"
    }
   ],
   "source": [
    "# exporting middle of bin and exp(-delta chi^2/2) - see 2203.16285\n",
    "chi_min = []\n",
    "length = 0\n",
    "for x in h0bins[1:]:\n",
    "    y = np.logical_and( x-bin_size <= H0, H0 <= x)\n",
    "    if len(H0[y]) != 0:\n",
    "        length = length + len(H0[y])\n",
    "        minimum = CHI[y].min()\n",
    "#        print(x, minimum, np.exp(-1/2*(minimum-chi_sq_min)))\n",
    "        chi_min.append([x-bin_size/2, np.exp(-1/2*(minimum-chi_sq_min))])\n",
    "    \n",
    "chi_min = np.array(chi_min)\n",
    "length"
   ]
  },
  {
   "cell_type": "code",
   "execution_count": 32,
   "metadata": {},
   "outputs": [],
   "source": [
    "xdata = chi_min[:,0]; ydata = chi_min[:,1];"
   ]
  },
  {
   "cell_type": "code",
   "execution_count": 33,
   "metadata": {},
   "outputs": [],
   "source": [
    "#len(xdata)\n",
    "#np.full(len(xdata), 2*bin_size)"
   ]
  },
  {
   "cell_type": "code",
   "execution_count": 34,
   "metadata": {},
   "outputs": [],
   "source": [
    "#def delta_chi2(x, a, b):\n",
    "#    return a*(x-h0_min)**2+b*(x-h0_min)**3\n",
    "\n",
    "#def R(x, a, b):\n",
    "#    return np.exp(-1/2*delta_chi2(x, a, b))\n",
    "\n",
    "#popt, pcov = op.curve_fit(delta_chi2, xdata, ydata, p0= [0.1, 0.1], sigma = np.diag(np.full(len(xdata),2*bin_size)**2),absolute_sigma=False)\n",
    "#a, b = popt"
   ]
  },
  {
   "cell_type": "code",
   "execution_count": 71,
   "metadata": {},
   "outputs": [
    {
     "data": {
      "image/png": "[encoded data removed]",
      "text/plain": [
       "<Figure size 432x288 with 1 Axes>"
      ]
     },
     "metadata": {
      "needs_background": "light"
     },
     "output_type": "display_data"
    }
   ],
   "source": [
    "plt.plot(xdata, ydata,'.', alpha=0.7)\n",
    "#plt.plot(xdata, delta_chi2(xdata,*popt))\n",
    "plt.ylabel('$R(H_0)$', fontsize=15)\n",
    "plt.xlabel('$H_0$', fontsize=15)\n",
    "plt.vlines(167.47077599748957, 0, 1, 'r', linestyle='dashed')\n",
    "plt.vlines(114.39843376781509, 0, 1, 'r', linestyle='dashed')\n",
    "plt.vlines(67.4794065792623, 0, 1, 'r', linestyle='dotted')\n",
    "plt.vlines(174.39325541875144, 0, 1, 'r', linestyle='dotted')\n",
    "#plt.savefig('H0_R_zmin1.png', dpi=300)\n",
    "plt.show()"
   ]
  },
  {
   "cell_type": "code",
   "execution_count": 36,
   "metadata": {},
   "outputs": [],
   "source": [
    "#total_area = int.quad(R, H0.min(), H0.max(), args=(a,b))[0]\n",
    "#print(total_area)\n",
    "\n",
    "#threshold=0.61\n",
    "#def func(x):\n",
    "#    return delta_chi2(x, a, b) +2*np.log(threshold)\n",
    "\n",
    "\n",
    "#sol = op.fsolve(func, [60, 70])\n",
    "#sol"
   ]
  },
  {
   "cell_type": "code",
   "execution_count": 37,
   "metadata": {},
   "outputs": [],
   "source": [
    "#int.quad(R, sol[0], sol[1], args=(a,b))[0]/total_area"
   ]
  },
  {
   "cell_type": "code",
   "execution_count": 38,
   "metadata": {},
   "outputs": [
    {
     "data": {
      "text/plain": [
       "67.27724286087316"
      ]
     },
     "execution_count": 38,
     "metadata": {},
     "output_type": "execute_result"
    }
   ],
   "source": [
    "total_area = int.simps(ydata, xdata)\n",
    "total_area"
   ]
  },
  {
   "cell_type": "code",
   "execution_count": 70,
   "metadata": {},
   "outputs": [
    {
     "data": {
      "text/plain": [
       "1.0"
      ]
     },
     "execution_count": 70,
     "metadata": {},
     "output_type": "execute_result"
    }
   ],
   "source": [
    "threshold = 0\n",
    "z = ydata > threshold\n",
    "int.simps(ydata[z], xdata[z])/total_area"
   ]
  },
  {
   "cell_type": "code",
   "execution_count": 67,
   "metadata": {},
   "outputs": [
    {
     "name": "stdout",
     "output_type": "stream",
     "text": [
      "150.35008358448061 82.87067700521831 24.043171834270822 67.4794065792623 174.39325541875144\n"
     ]
    }
   ],
   "source": [
    "print(h0_min, h0_min-xdata[z].min(), xdata[z].max()-h0_min, xdata[z].min(), xdata[z].max())"
   ]
  },
  {
   "cell_type": "code",
   "execution_count": 72,
   "metadata": {},
   "outputs": [
    {
     "name": "stdout",
     "output_type": "stream",
     "text": [
      "3.1233333283586795e-07 0.999989890930221 0.005025073259280845\n"
     ]
    }
   ],
   "source": [
    "# now let's switch to Omega_m\n",
    "ombins = np.linspace(OM.min(), OM.max(), 200)\n",
    "bin_size = np.diff(ombins)[0]\n",
    "print(OM.min(), OM.max(), bin_size)"
   ]
  },
  {
   "cell_type": "code",
   "execution_count": 73,
   "metadata": {},
   "outputs": [
    {
     "name": "stdout",
     "output_type": "stream",
     "text": [
      "0.005025385592613681 4.689538354146758\n",
      "0.010050458851894525 4.6684024484931665\n",
      "0.01507553211117537 4.668454125062267\n",
      "0.020100605370456215 4.688832497282168\n",
      "0.02512567862973706 4.737555132252297\n",
      "0.030150751889017904 4.8080366259834815\n",
      "0.03517582514829875 4.889144456674874\n",
      "0.040200898407579594 4.979639849982647\n",
      "0.04522597166686044 5.077168341682008\n",
      "0.05025104492614128 5.1779858159541226\n",
      "0.05527611818542213 5.282034368570658\n",
      "0.06030119144470297 5.38478064540184\n",
      "0.06532626470398381 5.489123851353709\n",
      "0.07035133796326466 5.593049604636698\n",
      "0.07537641122254551 5.690302118394627\n",
      "0.08040148448182635 5.789910281322089\n",
      "0.08542655774110719 5.887577825800046\n",
      "0.09045163100038804 5.98305897128424\n",
      "0.0954767042596689 6.071718260229472\n",
      "0.10050177751894973 6.162220845157924\n",
      "0.10552685077823057 6.249180546720179\n",
      "0.11055192403751142 6.331927990149009\n",
      "0.11557699729679227 6.414014420320245\n",
      "0.12060207055607311 6.492614576723386\n",
      "0.12562714381535395 6.571312975133105\n",
      "0.13065221707463479 6.64431585591764\n",
      "0.13567729033391565 6.717537495493071\n",
      "0.1407023635931965 6.787894099935638\n",
      "0.14572743685247733 6.856193821265107\n",
      "0.1507525101117582 6.926279698387571\n",
      "0.15577758337103903 6.9856754403973795\n",
      "0.16080265663031987 7.0507567488607865\n",
      "0.1658277298896007 7.109051456948873\n",
      "0.17085280314888154 7.169377530099\n",
      "0.1758778764081624 7.225433135278756\n",
      "0.18090294966744325 7.2785810115365726\n",
      "0.18592802292672408 7.333563197455625\n",
      "0.19095309618600495 7.384325740387285\n",
      "0.1959781694452858 7.435426004352415\n",
      "0.20100324270456663 7.484788362419417\n",
      "0.20602831596384746 7.533211793611832\n",
      "0.2110533892231283 7.581634888179877\n",
      "0.21607846248240917 7.624963568155665\n",
      "0.22110353574169 7.672106841900046\n",
      "0.22612860900097084 7.713356295609529\n",
      "0.2311536822602517 7.754302796670257\n",
      "0.23617875551953255 7.7966651400310605\n",
      "0.24120382877881338 7.8340923805212554\n",
      "0.24622890203809422 7.873000772449164\n",
      "0.25125397529737503 7.91113379190091\n",
      "0.25627904855665595 7.948314532734546\n",
      "0.26130412181593676 7.98469121833888\n",
      "0.2663291950752176 8.019301105580485\n",
      "0.2713542683344985 8.052864442359798\n",
      "0.2763793415937793 8.0904368491802\n",
      "0.2814044148530601 8.122012445697596\n",
      "0.28642948811234104 8.152602030681496\n",
      "0.29145456137162185 8.183705937692185\n",
      "0.29647963463090266 8.213317531306243\n",
      "0.3015047078901836 8.24264840078478\n",
      "0.3065297811494644 8.272282573936517\n",
      "0.3115548544087452 8.300836420595683\n",
      "0.316579927668026 8.328438958322137\n",
      "0.3216050009273069 8.356782525631923\n",
      "0.32663007418658774 8.382931334157423\n",
      "0.33165514744586855 8.412451426257292\n",
      "0.33668022070514947 8.43399429102107\n",
      "0.3417052939644303 8.461060822037734\n",
      "0.3467303672237111 8.486464467220195\n",
      "0.351755440482992 8.50941824309201\n",
      "0.3567805137422728 8.53275729688245\n",
      "0.36180558700155363 8.55433625072034\n",
      "0.36683066026083455 8.57769442059936\n",
      "0.37185573352011536 8.598870218263048\n",
      "0.37688080677939617 8.6215400906365\n",
      "0.3819058800386771 8.643378836305196\n",
      "0.3869309532979579 8.664956496175506\n",
      "0.3919560265572387 8.68399402608529\n",
      "0.3969810998165195 8.704867428477709\n",
      "0.40200617307580044 8.724011741815062\n",
      "0.40703124633508125 8.74237281865279\n",
      "0.41205631959436206 8.762727184288535\n",
      "0.417081392853643 8.78071700667676\n",
      "0.4221064661129238 8.798832171245756\n",
      "0.4271315393722046 8.818886018448314\n",
      "0.4321566126314855 8.835048170458904\n",
      "0.43718168589076634 8.85264025584989\n",
      "0.44220675915004715 8.869398308295104\n",
      "0.44723183240932807 8.884663658480125\n",
      "0.4522569056686089 8.901191570503585\n",
      "0.4572819789278897 8.918175045200439\n",
      "0.4623070521871706 8.934180100206092\n",
      "0.4673321254464514 8.952737812436062\n",
      "0.47235719870573223 8.964155307767466\n",
      "0.47738227196501304 8.979725814584867\n",
      "0.48240734522429396 8.994593056161182\n",
      "0.48743241848357477 9.00943462820234\n",
      "0.4924574917428556 9.024691117925618\n",
      "0.4974825650021365 9.039814835592637\n",
      "0.5025076382614173 9.051650246914047\n",
      "0.5075327115206982 9.066211123231387\n",
      "0.512557784779979 9.081201421013562\n",
      "0.5175828580392599 9.093332476705992\n",
      "0.5226079312985407 9.105900881205995\n",
      "0.5276330045578216 9.119487101223\n",
      "0.5326580778171024 9.13256116116898\n",
      "0.5376831510763832 9.144239093264432\n",
      "0.5427082243356641 9.157213721828358\n",
      "0.5477332975949449 9.168887670270284\n",
      "0.5527583708542257 9.183474317497524\n",
      "0.5577834441135067 9.19670172817527\n",
      "0.5628085173727875 9.204481379801184\n",
      "0.5678335906320683 9.215854558807816\n",
      "0.5728586638913492 9.227487629617983\n",
      "0.57788373715063 9.23851049967464\n",
      "0.5829088104099108 9.248994646844825\n",
      "0.5879338836691917 9.260937034751397\n",
      "0.5929589569284726 9.271952074417625\n",
      "0.5979840301877534 9.280966686748108\n",
      "0.6030091034470343 9.292264613068907\n",
      "0.6080341767063151 9.303672681548667\n",
      "0.6130592499655959 9.313629886188812\n",
      "0.6180843232248767 9.322516020365892\n",
      "0.6231093964841576 9.332297259505614\n",
      "0.6281344697434385 9.342041557429056\n",
      "0.6331595430027193 9.352303311109498\n",
      "0.6381846162620002 9.361107954021264\n",
      "0.643209689521281 9.370871663698408\n",
      "0.6482347627805618 9.379404849108198\n",
      "0.6532598360398427 9.389859556079562\n",
      "0.6582849092991235 9.396907306387746\n",
      "0.6633099825584043 9.406734931779315\n",
      "0.6683350558176853 9.414981296571161\n",
      "0.6733601290769661 9.424431211993024\n",
      "0.6783852023362469 9.432345063052212\n",
      "0.6834102755955277 9.440587794065372\n",
      "0.6884353488548086 9.448999679680227\n",
      "0.6934604221140894 9.458405552478592\n",
      "0.6984854953733702 9.465945241945334\n",
      "0.7035105686326512 9.474965109340726\n",
      "0.708535641891932 9.481619260654343\n",
      "0.7135607151512128 9.490102694429128\n",
      "0.7185857884104937 9.497529060325856\n",
      "0.7236108616697745 9.50670793549848\n",
      "0.7286359349290553 9.512846613435833\n",
      "0.7336610081883362 9.521864542113569\n",
      "0.738686081447617 9.529333103817446\n",
      "0.7437111547068979 9.536934792734378\n",
      "0.7487362279661788 9.541653073975416\n",
      "0.7537613012254596 9.550488572227566\n",
      "0.7587863744847404 9.555907665733665\n",
      "0.7638114477440213 9.56418826070025\n",
      "0.7688365210033021 9.570527351759377\n",
      "0.7738615942625829 9.577341208319883\n",
      "0.7788866675218638 9.583960581108824\n",
      "0.7839117407811447 9.59131719229177\n",
      "0.7889368140404255 9.59792629865931\n",
      "0.7939618872997063 9.605972590089447\n",
      "0.7989869605589872 9.610387956824994\n",
      "0.804012033818268 9.616511858772935\n",
      "0.8090371070775488 9.623092890320887\n",
      "0.8140621803368298 9.629254664676694\n",
      "0.8190872535961106 9.636122306623271\n",
      "0.8241123268553914 9.642379634473729\n",
      "0.8291374001146723 9.647157366303666\n",
      "0.8341624733739531 9.655693663546666\n",
      "0.8391875466332339 9.659166260984058\n",
      "0.8442126198925147 9.666238666494948\n",
      "0.8492376931517956 9.671918979472771\n",
      "0.8542627664110765 9.677613079420844\n",
      "0.8592878396703573 9.683463821193975\n",
      "0.8643129129296382 9.688275080317347\n",
      "0.869337986188919 9.69700767302478\n",
      "0.8743630594481998 9.700407727422856\n",
      "0.8793881327074807 9.70471323427522\n",
      "0.8844132059667615 9.711092822995798\n",
      "0.8894382792260423 9.716887367719995\n",
      "0.8944633524853233 9.72134663348615\n",
      "0.8994884257446041 9.726352111122937\n",
      "0.9045134990038849 9.73273699449331\n",
      "0.9095385722631658 9.736943438305957\n",
      "0.9145636455224466 9.74344461218401\n",
      "0.9195887187817274 9.748607213197236\n",
      "0.9246137920410084 9.75225798046997\n",
      "0.9296388653002892 9.75696928941018\n",
      "0.93466393855957 9.76213477179989\n",
      "0.9396890118188508 9.7669975478941\n",
      "0.9447140850781317 9.7744413676737\n",
      "0.9497391583374125 9.776778622259352\n",
      "0.9547642315966933 9.781112563231709\n",
      "0.9597893048559742 9.78663582054655\n",
      "0.9648143781152551 9.790516712982539\n",
      "0.9698394513745359 9.795803580452638\n",
      "0.9748645246338168 9.799446840939414\n",
      "0.9798895978930976 9.805487467773123\n",
      "0.9849146711523784 9.808764823359159\n",
      "0.9899397444116593 9.813369938885232\n",
      "0.9949648176709401 9.818599777622719\n",
      "0.999989890930221 9.822122614412448\n"
     ]
    }
   ],
   "source": [
    "chi_min = []\n",
    "for x in ombins[1:]:\n",
    "    y = np.logical_and( x-bin_size < OM, OM <= x)\n",
    "    if len(OM[y]) != 0:\n",
    "        minimum = CHI[y].min()\n",
    "        print(x, minimum)\n",
    "        chi_min.append([x-bin_size/2, np.exp(-1/2*(minimum-chi_sq_min))])\n",
    "    \n",
    "chi_min = np.array(chi_min)"
   ]
  },
  {
   "cell_type": "code",
   "execution_count": 74,
   "metadata": {},
   "outputs": [],
   "source": [
    "xdata = chi_min[:,0]; ydata = chi_min[:,1];"
   ]
  },
  {
   "cell_type": "code",
   "execution_count": 114,
   "metadata": {},
   "outputs": [
    {
     "data": {
      "image/png": "[encoded data removed]",
      "text/plain": [
       "<Figure size 432x288 with 1 Axes>"
      ]
     },
     "metadata": {
      "needs_background": "light"
     },
     "output_type": "display_data"
    }
   ],
   "source": [
    "# An unnormalised distribution peaked on h0_min by construction\n",
    "plt.plot(xdata, ydata, '.', alpha=0.7)\n",
    "plt.xlabel('$\\Omega_m$', fontsize=15)\n",
    "plt.ylabel('$R(\\Omega_m)$', fontsize=15)\n",
    "plt.vlines(0.3492429038533516, 0, 1, 'r', linestyle='dashed')\n",
    "#plt.vlines(0.0025128489629732582, 0, 1, 'r', linestyle='dashed')\n",
    "plt.vlines(0.8718505228185593, 0, 1, 'r', linestyle='dotted')\n",
    "#plt.vlines(174.39325541875144, 0, 1, 'r', linestyle='dotted')\n",
    "#plt.savefig('om_R_zmin1.png', dpi=300)\n",
    "plt.show()"
   ]
  },
  {
   "cell_type": "code",
   "execution_count": 79,
   "metadata": {},
   "outputs": [
    {
     "data": {
      "text/plain": [
       "0.19771663379728643"
      ]
     },
     "execution_count": 79,
     "metadata": {},
     "output_type": "execute_result"
    }
   ],
   "source": [
    "area = int.simps(ydata, xdata)\n",
    "area"
   ]
  },
  {
   "cell_type": "code",
   "execution_count": 123,
   "metadata": {},
   "outputs": [
    {
     "data": {
      "text/plain": [
       "0.6785688065716855"
      ]
     },
     "execution_count": 123,
     "metadata": {},
     "output_type": "execute_result"
    }
   ],
   "source": [
    "threshold = 0.1449\n",
    "z = ydata > threshold\n",
    "int.simps(ydata[z], xdata[z])/area"
   ]
  },
  {
   "cell_type": "code",
   "execution_count": 127,
   "metadata": {},
   "outputs": [
    {
     "name": "stdout",
     "output_type": "stream",
     "text": [
      "0.009847519551170724 0.007334670588197466 0.33939538430218086\n"
     ]
    }
   ],
   "source": [
    "print(om_min, om_min-xdata[z].min(), xdata[z].max()-om_min)"
   ]
  },
  {
   "cell_type": "code",
   "execution_count": null,
   "metadata": {},
   "outputs": [],
   "source": []
  }
 ],
 "metadata": {
  "kernelspec": {
   "display_name": "Python 3",
   "language": "python",
   "name": "python3"
  },
  "language_info": {
   "codemirror_mode": {
    "name": "ipython",
    "version": 3
   },
   "file_extension": ".py",
   "mimetype": "text/x-python",
   "name": "python",
   "nbconvert_exporter": "python",
   "pygments_lexer": "ipython3",
   "version": "3.7.4"
  }
 },
 "nbformat": 4,
 "nbformat_minor": 2
}
